{
 "cells": [
  {
   "cell_type": "code",
   "execution_count": 2,
   "metadata": {},
   "outputs": [],
   "source": [
    "# dependencies\n",
    "import pandas as pd\n",
    "from pathlib import Path"
   ]
  },
  {
   "cell_type": "code",
   "execution_count": 3,
   "metadata": {},
   "outputs": [],
   "source": [
    "# read covid19-download.csv\n",
    "covid19_download = Path('covid19-download.csv')"
   ]
  },
  {
   "cell_type": "code",
   "execution_count": 4,
   "metadata": {},
   "outputs": [],
   "source": [
    "# covid19 DataFrame\n",
    "covid19_df = pd.read_csv(covid19_download)"
   ]
  },
  {
   "cell_type": "code",
   "execution_count": 5,
   "metadata": {},
   "outputs": [],
   "source": [
    "# month column header to the covid19 DataFrame\n",
    "covid19_df['month'] = pd.DatetimeIndex(covid19_df['date']).month"
   ]
  },
  {
   "cell_type": "code",
   "execution_count": 6,
   "metadata": {},
   "outputs": [],
   "source": [
    "# convert month column to numeric values\n",
    "covid19_df['month'] = pd.to_numeric(covid19_df['month'], errors='coerce')"
   ]
  },
  {
   "cell_type": "code",
   "execution_count": 7,
   "metadata": {},
   "outputs": [],
   "source": [
    "# month number to month name\n",
    "covid19_df['month'] = pd.to_datetime(covid19_df['month'], format='%m').dt.month_name().str.slice(stop=3)"
   ]
  },
  {
   "cell_type": "code",
   "execution_count": 8,
   "metadata": {},
   "outputs": [],
   "source": [
    "# create 'month_year' column\n",
    "covid19_df['month_year'] = covid19_df['month'] + '-' + covid19_df['reporting_year'].astype(str)"
   ]
  },
  {
   "cell_type": "code",
   "execution_count": 9,
   "metadata": {},
   "outputs": [],
   "source": [
    "# create 'month_year_prname' column\n",
    "covid19_df['month_year_prname'] = covid19_df['month'] + '-' + covid19_df['reporting_year'].astype(str) + '-' + covid19_df['prname']"
   ]
  },
  {
   "cell_type": "code",
   "execution_count": 10,
   "metadata": {},
   "outputs": [],
   "source": [
    "# make month_year the index\n",
    "covid19_df.set_index('reporting_year', inplace=True)"
   ]
  },
  {
   "cell_type": "code",
   "execution_count": 11,
   "metadata": {},
   "outputs": [],
   "source": [
    "# rename column headers\n",
    "covid19_df.rename(columns={'prname': 'Province', 'pruid': 'Province_ID', 'prnameFR': 'Province_French', 'month': 'Month', 'month_year': 'Month_Year', 'month_year_prname': 'Month_Year_Province'}, inplace=True)"
   ]
  },
  {
   "cell_type": "code",
   "execution_count": 14,
   "metadata": {},
   "outputs": [],
   "source": [
    "# print the covid19 DataFrame\n",
    "#covid19_df"
   ]
  },
  {
   "cell_type": "code",
   "execution_count": 15,
   "metadata": {},
   "outputs": [],
   "source": [
    "# save the covid19 DataFrame to a new csv file\n",
    "covid19_df.to_csv('covid19_df.csv')"
   ]
  }
 ],
 "metadata": {
  "kernelspec": {
   "display_name": "groupproject1",
   "language": "python",
   "name": "groupproject1"
  },
  "language_info": {
   "codemirror_mode": {
    "name": "ipython",
    "version": 3
   },
   "file_extension": ".py",
   "mimetype": "text/x-python",
   "name": "python",
   "nbconvert_exporter": "python",
   "pygments_lexer": "ipython3",
   "version": "3.11.5"
  }
 },
 "nbformat": 4,
 "nbformat_minor": 2
}
