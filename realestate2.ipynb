{
 "cells": [
  {
   "cell_type": "code",
   "execution_count": 11,
   "metadata": {},
   "outputs": [],
   "source": [
    "#Import Dependancies\n",
    "import pandas as pd\n",
    "from pathlib import Path"
   ]
  },
  {
   "cell_type": "code",
   "execution_count": 14,
   "metadata": {},
   "outputs": [],
   "source": [
    "#Read CSV Files\n",
    "\n",
    "aggregrate_csv = Path(\"Resources/AGGREGATE.csv\")\n",
    "aggregrate_df = pd.read_csv(aggregrate_csv)\n",
    "\n",
    "bancroft_csv = Path(\"Resources/BANCROFT_AND_AREA.csv\")\n",
    "bancroft_df = pd.read_csv(bancroft_csv)\n",
    "\n",
    "barrie_csv = Path(\"Resources/BARRIE_AND_DISTRICT.csv\")\n",
    "barrie_df = pd.read_csv(barrie_csv)\n",
    "\n",
    "calgary_csv = Path(\"Resources/CALGARY.csv\")\n",
    "calgary_df = pd.read_csv(calgary_csv)\n",
    "\n",
    "cambridge_csv = Path(\"Resources/CAMBRIDGE.csv\")\n",
    "cambridge_df = pd.read_csv(cambridge_csv)\n",
    "\n",
    "chilliwack_csv = Path(\"Resources/CHILLIWACK_AND_DISTRICT.csv\")\n",
    "chilliwack_df = pd.read_csv(chilliwack_csv)\n",
    "\n",
    "edmonton_csv = Path(\"Resources/EDMONTON.csv\")\n",
    "edmonton_df = pd.read_csv(edmonton_csv)\n",
    "\n",
    "greater_vancouver_csv = Path(\"Resources/GREATER_VANCOUVER.csv\")\n",
    "greater_vancouver_df = pd.read_csv(greater_vancouver_csv)\n",
    "\n",
    "grey_bruce_owen_sound_csv = Path(\"Resources/GREY_BRUCE_OWEN_SOUND.csv\")\n",
    "grey_bruce_owen_sound_df = pd.read_csv(grey_bruce_owen_sound_csv)\n",
    "\n",
    "guelph_csv = Path(\"Resources/GUELPH_AND_DISTRICT.csv\")\n",
    "guelph_df = pd.read_csv(guelph_csv)\n",
    "\n",
    "hamilton_csv = Path(\"Resources/HAMILTON_BURLINGTON.csv\")\n",
    "hamilton_df = pd.read_csv(hamilton_csv)\n",
    "\n",
    "interior_bc_csv = Path(\"Resources/INTERIOR_BC.csv\")\n",
    "interior_bc_df = pd.read_csv(interior_bc_csv)\n",
    "\n",
    "lower_mainland_csv = Path(\"Resources/LOWER_MAINLAND.csv\")\n",
    "lower_mainland_df = pd.read_csv(lower_mainland_csv)\n",
    "\n",
    "newfoundland_csv = Path(\"Resources/NEWFOUNDLAND_AND_LABRADOR.csv\")\n",
    "newfoundland_df = pd.read_csv(newfoundland_csv)\n",
    "\n",
    "ontario_csv = Path(\"Resources/ONTARIO.csv\")\n",
    "ontario_df = pd.read_csv(ontario_csv)\n",
    "\n",
    "saskatchewan_csv = Path(\"Resources/SASKATCHEWAN.csv\")\n",
    "saskatchewan_df = pd.read_csv(saskatchewan_csv)\n",
    "\n",
    "saskatoon_csv = Path(\"Resources/SASKATOON.csv\")\n",
    "saskatoon_df = pd.read_csv(saskatoon_csv)\n",
    "\n",
    "vancouver_island_csv = Path(\"Resources/VANCOUVER_ISLAND.csv\")\n",
    "vancouver_island_df = pd.read_csv(vancouver_island_csv)\n",
    "\n",
    "victoria_csv = Path(\"Resources/VICTORIA.csv\")\n",
    "victoria_df = pd.read_csv(victoria_csv)\n",
    "\n",
    "winnipeg_csv = Path(\"Resources/WINNIPEG.csv\")\n",
    "winnipeg_df = pd.read_csv(winnipeg_csv)"
   ]
  },
  {
   "cell_type": "code",
   "execution_count": 15,
   "metadata": {},
   "outputs": [],
   "source": [
    "# Drop NAN values\n",
    "\n",
    "aggregrate_df = aggregrate_df.dropna()\n",
    "bancroft_df = bancroft_df.dropna()\n",
    "barrie_df = barrie_df.dropna()\n",
    "calgary_df = calgary_df.dropna()\n",
    "cambridge_df = cambridge_df.dropna()\n",
    "chiiliwach_df = chilliwack_df.dropna()\n",
    "edmonton_df = edmonton_df.dropna()\n",
    "greater_vancouver_df = greater_vancouver_df.dropna()\n",
    "grey_bruce_owen_sound_df = grey_bruce_owen_sound_df.dropna()\n",
    "guelph_df = guelph_df.dropna()\n",
    "hamilton_df = hamilton_df.dropna()\n",
    "interior_bc_df = interior_bc_df.dropna()\n",
    "lower_mainland_df = lower_mainland_df.dropna()\n",
    "newfoundland_df = newfoundland_df.dropna()\n",
    "ontario_df = ontario_df.dropna()\n",
    "saskatchewan_df = saskatchewan_df.dropna()\n",
    "saskatoon_df = saskatoon_df.dropna()\n",
    "vancouver_island_df = vancouver_island_df.dropna()\n",
    "victoria_df = victoria_df.dropna()\n",
    "winnipeg_df = winnipeg_df.dropna()"
   ]
  },
  {
   "cell_type": "code",
   "execution_count": null,
   "metadata": {},
   "outputs": [],
   "source": [
    "#Merging all data into one \n"
   ]
  },
  {
   "cell_type": "code",
   "execution_count": null,
   "metadata": {},
   "outputs": [],
   "source": [
    "# Add Province column\n",
    "\n",
    "value = \"Calgary\"\n",
    "calgary_df[\"Geographical location\"] = value\n",
    "calgary_df"
   ]
  }
 ],
 "metadata": {
  "kernelspec": {
   "display_name": "Python 3",
   "language": "python",
   "name": "python3"
  },
  "language_info": {
   "codemirror_mode": {
    "name": "ipython",
    "version": 3
   },
   "file_extension": ".py",
   "mimetype": "text/x-python",
   "name": "python",
   "nbconvert_exporter": "python",
   "pygments_lexer": "ipython3",
   "version": "3.9.6"
  }
 },
 "nbformat": 4,
 "nbformat_minor": 2
}
