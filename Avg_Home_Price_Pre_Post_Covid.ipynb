{
 "cells": [
  {
   "cell_type": "code",
   "execution_count": 27,
   "metadata": {},
   "outputs": [],
   "source": [
    "# dependencies\n",
    "import pandas as pd\n",
    "import scipy.stats as stats\n",
    "import numpy as np\n",
    "import matplotlib.pyplot as plt\n",
    "import datetime as dt"
   ]
  },
  {
   "cell_type": "code",
   "execution_count": 28,
   "metadata": {},
   "outputs": [],
   "source": [
    "# read in the aggregated data\n",
    "aggregate_df = pd.read_csv('AGGREGATE.csv')"
   ]
  },
  {
   "cell_type": "code",
   "execution_count": 29,
   "metadata": {},
   "outputs": [],
   "source": [
    "# create aggregate DataFrame\n",
    "aggregate_df = pd.DataFrame(aggregate_df)"
   ]
  },
  {
   "cell_type": "code",
   "execution_count": 30,
   "metadata": {},
   "outputs": [],
   "source": [
    "# create year column header to the aggregate DataFrame\n",
    "aggregate_df['Year'] = pd.DatetimeIndex(aggregate_df['Date']).year\n"
   ]
  },
  {
   "cell_type": "code",
   "execution_count": 31,
   "metadata": {},
   "outputs": [],
   "source": [
    "# remove the decimal from the year column\n",
    "aggregate_df['Year'] = aggregate_df['Year'].fillna(0).astype(int)\n"
   ]
  },
  {
   "cell_type": "code",
   "execution_count": 32,
   "metadata": {},
   "outputs": [],
   "source": [
    "# remove the colums that are not needed\n",
    "aggregate_df = aggregate_df.drop(['Composite_HPI_SA','Single_Family_HPI_SA','One_Storey_HPI_SA','Two_Storey_HPI_SA','Townhouse_HPI_SA','Apartment_HPI_SA'], axis=1)"
   ]
  },
  {
   "cell_type": "code",
   "execution_count": 33,
   "metadata": {},
   "outputs": [],
   "source": [
    "# remove the NaN values\n",
    "aggregate_df = aggregate_df.dropna()"
   ]
  },
  {
   "cell_type": "code",
   "execution_count": 45,
   "metadata": {},
   "outputs": [],
   "source": [
    "# create a growth rate headers\n",
    "aggregate_df['composite_growth_rate'] = aggregate_df['Composite_Benchmark_SA'] / aggregate_df['Composite_Benchmark_SA'].shift(1) - 1\n",
    "aggregate_df['single_family_growth_rate'] = aggregate_df['Single_Family_Benchmark_SA'] / aggregate_df['Single_Family_Benchmark_SA'].shift(1) - 1\n",
    "aggregate_df['one_storey_growth_rate'] = aggregate_df['One_Storey_Benchmark_SA'] / aggregate_df['One_Storey_Benchmark_SA'].shift(1) - 1\n",
    "aggregate_df['two_storey_growth_rate'] = aggregate_df['Two_Storey_Benchmark_SA'] / aggregate_df['Two_Storey_Benchmark_SA'].shift(1) - 1\n",
    "aggregate_df['townhouse_growth_rate'] = aggregate_df['Townhouse_Benchmark_SA'] / aggregate_df['Townhouse_Benchmark_SA'].shift(1) - 1\n",
    "aggregate_df['apartment_growth_rate'] = aggregate_df['Apartment_Benchmark_SA'] / aggregate_df['Apartment_Benchmark_SA'].shift(1) - 1\n"
   ]
  },
  {
   "cell_type": "code",
   "execution_count": 47,
   "metadata": {},
   "outputs": [],
   "source": [
    "# create a DataFrame for just the year 2020 to 2023\n",
    "aggregate_df_2020_2023 = aggregate_df[aggregate_df['Year'] >= 2020]\n"
   ]
  },
  {
   "cell_type": "code",
   "execution_count": 50,
   "metadata": {},
   "outputs": [],
   "source": [
    "# create a DataFrame for just the year 2016 to 2019\n",
    "aggregate_df_2016_2019 = aggregate_df[(aggregate_df['Year'] >= 2016) & (aggregate_df['Year'] <= 2019)]\n"
   ]
  },
  {
   "cell_type": "code",
   "execution_count": 52,
   "metadata": {},
   "outputs": [
    {
     "name": "stdout",
     "output_type": "stream",
     "text": [
      "-1.1963707874161464 0.23755236328726412\n"
     ]
    }
   ],
   "source": [
    "# a paired t-test to compare the growth rate of the composite benchmark from 2016 to 2019 and 2020 to 2023\n",
    "t_stat, p_value = stats.ttest_rel(aggregate_df_2016_2019['composite_growth_rate'], aggregate_df_2020_2023['composite_growth_rate'])\n",
    "print(t_stat, p_value)"
   ]
  },
  {
   "cell_type": "code",
   "execution_count": 53,
   "metadata": {},
   "outputs": [
    {
     "name": "stdout",
     "output_type": "stream",
     "text": [
      "-1.519280075023866 0.13539101611072157\n"
     ]
    }
   ],
   "source": [
    "# a paired t-test to compare the growth rate of the single family benchmark from 2016 to 2019 and 2020 to 2023\n",
    "t_stat, p_value = stats.ttest_rel(aggregate_df_2016_2019['single_family_growth_rate'], aggregate_df_2020_2023['single_family_growth_rate'])\n",
    "print(t_stat, p_value)"
   ]
  },
  {
   "cell_type": "code",
   "execution_count": 55,
   "metadata": {},
   "outputs": [
    {
     "name": "stdout",
     "output_type": "stream",
     "text": [
      "-1.320087765866604 0.1931990697202384\n"
     ]
    }
   ],
   "source": [
    "# a paired t-test to compare the growth rate of the one storey benchmark from 2016 to 2019 and 2020 to 2023\n",
    "t_stat, p_value = stats.ttest_rel(aggregate_df_2016_2019['one_storey_growth_rate'], aggregate_df_2020_2023['one_storey_growth_rate'])\n",
    "print(t_stat, p_value)"
   ]
  },
  {
   "cell_type": "code",
   "execution_count": 57,
   "metadata": {},
   "outputs": [
    {
     "name": "stdout",
     "output_type": "stream",
     "text": [
      "-1.5355695387006982 0.13134911510730138\n"
     ]
    }
   ],
   "source": [
    "# a paired t-test to compare the growth rate of the two storey benchmark from 2016 to 2019 and 2020 to 2023\n",
    "t_stat, p_value = stats.ttest_rel(aggregate_df_2016_2019['two_storey_growth_rate'], aggregate_df_2020_2023['two_storey_growth_rate'])\n",
    "print(t_stat, p_value)"
   ]
  },
  {
   "cell_type": "code",
   "execution_count": 58,
   "metadata": {},
   "outputs": [
    {
     "name": "stdout",
     "output_type": "stream",
     "text": [
      "-0.09951500077629977 0.9211526362306504\n"
     ]
    }
   ],
   "source": [
    "# a paired t-test to compare the growth rate of the townhouse benchmark from 2016 to 2019 and 2020 to 2023\n",
    "t_stat, p_value = stats.ttest_rel(aggregate_df_2016_2019['townhouse_growth_rate'], aggregate_df_2020_2023['townhouse_growth_rate'])\n",
    "print(t_stat, p_value)"
   ]
  },
  {
   "cell_type": "code",
   "execution_count": 59,
   "metadata": {},
   "outputs": [
    {
     "name": "stdout",
     "output_type": "stream",
     "text": [
      "1.5945306378686976 0.11752065970612852\n"
     ]
    }
   ],
   "source": [
    "# a paired t-test to compare the growth rate of the apartment benchmark from 2016 to 2019 and 2020 to 2023\n",
    "t_stat, p_value = stats.ttest_rel(aggregate_df_2016_2019['apartment_growth_rate'], aggregate_df_2020_2023['apartment_growth_rate'])\n",
    "print(t_stat, p_value)"
   ]
  },
  {
   "cell_type": "code",
   "execution_count": 60,
   "metadata": {},
   "outputs": [
    {
     "name": "stdout",
     "output_type": "stream",
     "text": [
      "             Composite Benchmark  Single Family Benchmark  \\\n",
      "t-statistic             1.594531                 1.594531   \n",
      "p-value                 0.117521                 0.117521   \n",
      "\n",
      "             One Storey Benchmark  Two Storey Benchmark  Townhouse Benchmark  \\\n",
      "t-statistic              1.594531              1.594531             1.594531   \n",
      "p-value                  0.117521              0.117521             0.117521   \n",
      "\n",
      "             Apartment Benchmark  \n",
      "t-statistic             1.594531  \n",
      "p-value                 0.117521  \n"
     ]
    }
   ],
   "source": [
    "# create a summary DataFrame for the test results\n",
    "summary_df = pd.DataFrame({'Composite Benchmark': [t_stat, p_value],\n",
    "                            'Single Family Benchmark': [t_stat, p_value],\n",
    "                            'One Storey Benchmark': [t_stat, p_value],\n",
    "                            'Two Storey Benchmark': [t_stat, p_value],\n",
    "                            'Townhouse Benchmark': [t_stat, p_value],\n",
    "                            'Apartment Benchmark': [t_stat, p_value]},\n",
    "                            index=['t-statistic', 'p-value'])\n",
    "\n",
    "# print the summary DataFrame\n",
    "print(summary_df)"
   ]
  }
 ],
 "metadata": {
  "kernelspec": {
   "display_name": "groupproject1",
   "language": "python",
   "name": "groupproject1"
  },
  "language_info": {
   "codemirror_mode": {
    "name": "ipython",
    "version": 3
   },
   "file_extension": ".py",
   "mimetype": "text/x-python",
   "name": "python",
   "nbconvert_exporter": "python",
   "pygments_lexer": "ipython3",
   "version": "3.11.5"
  }
 },
 "nbformat": 4,
 "nbformat_minor": 2
}
